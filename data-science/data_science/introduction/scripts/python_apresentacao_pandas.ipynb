{
    "cells": [
        {
            "cell_type": "code",
            "execution_count": 1,
            "source": [
                "#modulos:\r\n",
                "import pandas as pd\r\n",
                "#funcoes do pandas\r\n",
                "#teste\r\n",
                "#https://pandas.pydata.org/pandas-docs/stable/reference/api/pandas.DataFrame.html\r\n"
            ],
            "outputs": [],
            "metadata": {}
        },
        {
            "cell_type": "code",
            "execution_count": 3,
            "source": [
                "notas = pd.read_csv(\"C:\\\\Users\\\\User\\\\OneDrive\\\\cursos\\\\VS_code\\\\data-science\\\\data_science\\\\introduction\\\\course_01\\\\ratings.csv\")\r\n",
                "notas.head() #retorna os 5 primeiros termos \r\n",
                "notas.shape # configuracao do DF"
            ],
            "outputs": [
                {
                    "output_type": "execute_result",
                    "data": {
                        "text/plain": [
                            "(100836, 4)"
                        ]
                    },
                    "metadata": {},
                    "execution_count": 3
                }
            ],
            "metadata": {}
        },
        {
            "cell_type": "code",
            "execution_count": 5,
            "source": [
                "notas.columns = [\"usuarioId\", \"filmeId\", \"nota\", \"momento\"] #renomeando as colunas\r\n",
                "notas['nota'].unique() #retorna somente os valores unicos"
            ],
            "outputs": [
                {
                    "output_type": "execute_result",
                    "data": {
                        "text/plain": [
                            "array([4. , 5. , 3. , 2. , 1. , 4.5, 3.5, 2.5, 0.5, 1.5])"
                        ]
                    },
                    "metadata": {},
                    "execution_count": 5
                }
            ],
            "metadata": {}
        },
        {
            "cell_type": "code",
            "execution_count": 24,
            "source": [
                "notas['nota'].value_counts() # quantidade de valores repetidos\r\n",
                "notas['nota'].mean() #media da coluna"
            ],
            "outputs": [
                {
                    "output_type": "execute_result",
                    "data": {
                        "text/plain": [
                            "3.501556983616962"
                        ]
                    },
                    "metadata": {},
                    "execution_count": 24
                }
            ],
            "metadata": {}
        },
        {
            "cell_type": "code",
            "execution_count": 7,
            "source": [
                "notas['nota']"
            ],
            "outputs": [
                {
                    "output_type": "execute_result",
                    "data": {
                        "text/plain": [
                            "4.0    26818\n",
                            "3.0    20047\n",
                            "5.0    13211\n",
                            "3.5    13136\n",
                            "4.5     8551\n",
                            "2.0     7551\n",
                            "2.5     5550\n",
                            "1.0     2811\n",
                            "1.5     1791\n",
                            "0.5     1370\n",
                            "Name: nota, dtype: int64"
                        ]
                    },
                    "metadata": {},
                    "execution_count": 7
                }
            ],
            "metadata": {}
        }
    ],
    "metadata": {
        "orig_nbformat": 4,
        "language_info": {
            "name": "python",
            "version": "3.8.5",
            "mimetype": "text/x-python",
            "codemirror_mode": {
                "name": "ipython",
                "version": 3
            },
            "pygments_lexer": "ipython3",
            "nbconvert_exporter": "python",
            "file_extension": ".py"
        },
        "kernelspec": {
            "name": "python3",
            "display_name": "Python 3.8.5 64-bit"
        },
        "interpreter": {
            "hash": "7159da40f66233c4d6ea76d7a1b96b925219b093b9365511ca223c5f089da95c"
        }
    },
    "nbformat": 4,
    "nbformat_minor": 2
}